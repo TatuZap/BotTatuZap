{
  "nbformat": 4,
  "nbformat_minor": 0,
  "metadata": {
    "colab": {
      "provenance": []
    },
    "kernelspec": {
      "name": "python3",
      "display_name": "Python 3"
    },
    "language_info": {
      "name": "python"
    }
  },
  "cells": [
    {
      "cell_type": "code",
      "execution_count": 1,
      "metadata": {
        "colab": {
          "base_uri": "https://localhost:8080/"
        },
        "id": "l94Zve9kKC8f",
        "outputId": "9c7c9fef-23a0-4468-b291-2dd42a95b2b8"
      },
      "outputs": [
        {
          "output_type": "stream",
          "name": "stdout",
          "text": [
            "Looking in indexes: https://pypi.org/simple, https://us-python.pkg.dev/colab-wheels/public/simple/\n",
            "Collecting pysinonimos\n",
            "  Downloading pysinonimos-0.1.1.tar.gz (2.6 kB)\n",
            "Requirement already satisfied: requests in /usr/local/lib/python3.7/dist-packages (from pysinonimos) (2.23.0)\n",
            "Collecting scrapy\n",
            "  Downloading Scrapy-2.7.0-py2.py3-none-any.whl (270 kB)\n",
            "\u001b[K     |████████████████████████████████| 270 kB 28.8 MB/s \n",
            "\u001b[?25hRequirement already satisfied: urllib3!=1.25.0,!=1.25.1,<1.26,>=1.21.1 in /usr/local/lib/python3.7/dist-packages (from requests->pysinonimos) (1.24.3)\n",
            "Requirement already satisfied: chardet<4,>=3.0.2 in /usr/local/lib/python3.7/dist-packages (from requests->pysinonimos) (3.0.4)\n",
            "Requirement already satisfied: idna<3,>=2.5 in /usr/local/lib/python3.7/dist-packages (from requests->pysinonimos) (2.10)\n",
            "Requirement already satisfied: certifi>=2017.4.17 in /usr/local/lib/python3.7/dist-packages (from requests->pysinonimos) (2022.9.24)\n",
            "Collecting cssselect>=0.9.1\n",
            "  Downloading cssselect-1.1.0-py2.py3-none-any.whl (16 kB)\n",
            "Collecting protego>=0.1.15\n",
            "  Downloading Protego-0.2.1-py2.py3-none-any.whl (8.2 kB)\n",
            "Collecting PyDispatcher>=2.0.5\n",
            "  Downloading PyDispatcher-2.0.6.tar.gz (38 kB)\n",
            "Collecting parsel>=1.5.0\n",
            "  Downloading parsel-1.6.0-py2.py3-none-any.whl (13 kB)\n",
            "Collecting w3lib>=1.17.0\n",
            "  Downloading w3lib-2.0.1-py3-none-any.whl (20 kB)\n",
            "Collecting itemloaders>=1.0.1\n",
            "  Downloading itemloaders-1.0.6-py3-none-any.whl (11 kB)\n",
            "Collecting service-identity>=18.1.0\n",
            "  Downloading service_identity-21.1.0-py2.py3-none-any.whl (12 kB)\n",
            "Collecting cryptography>=3.3\n",
            "  Downloading cryptography-38.0.1-cp36-abi3-manylinux_2_24_x86_64.whl (4.0 MB)\n",
            "\u001b[K     |████████████████████████████████| 4.0 MB 66.3 MB/s \n",
            "\u001b[?25hCollecting pyOpenSSL>=21.0.0\n",
            "  Downloading pyOpenSSL-22.1.0-py3-none-any.whl (57 kB)\n",
            "\u001b[K     |████████████████████████████████| 57 kB 6.4 MB/s \n",
            "\u001b[?25hCollecting queuelib>=1.4.2\n",
            "  Downloading queuelib-1.6.2-py2.py3-none-any.whl (13 kB)\n",
            "Requirement already satisfied: setuptools in /usr/local/lib/python3.7/dist-packages (from scrapy->pysinonimos) (57.4.0)\n",
            "Requirement already satisfied: packaging in /usr/local/lib/python3.7/dist-packages (from scrapy->pysinonimos) (21.3)\n",
            "Collecting itemadapter>=0.1.0\n",
            "  Downloading itemadapter-0.7.0-py3-none-any.whl (10 kB)\n",
            "Collecting zope.interface>=5.1.0\n",
            "  Downloading zope.interface-5.5.0-cp37-cp37m-manylinux_2_5_x86_64.manylinux1_x86_64.manylinux_2_12_x86_64.manylinux2010_x86_64.whl (254 kB)\n",
            "\u001b[K     |████████████████████████████████| 254 kB 73.5 MB/s \n",
            "\u001b[?25hCollecting Twisted>=18.9.0\n",
            "  Downloading Twisted-22.8.0-py3-none-any.whl (3.1 MB)\n",
            "\u001b[K     |████████████████████████████████| 3.1 MB 56.3 MB/s \n",
            "\u001b[?25hCollecting tldextract\n",
            "  Downloading tldextract-3.4.0-py3-none-any.whl (93 kB)\n",
            "\u001b[K     |████████████████████████████████| 93 kB 2.9 MB/s \n",
            "\u001b[?25hRequirement already satisfied: lxml>=4.3.0 in /usr/local/lib/python3.7/dist-packages (from scrapy->pysinonimos) (4.9.1)\n",
            "Requirement already satisfied: cffi>=1.12 in /usr/local/lib/python3.7/dist-packages (from cryptography>=3.3->scrapy->pysinonimos) (1.15.1)\n",
            "Requirement already satisfied: pycparser in /usr/local/lib/python3.7/dist-packages (from cffi>=1.12->cryptography>=3.3->scrapy->pysinonimos) (2.21)\n",
            "Collecting jmespath>=0.9.5\n",
            "  Downloading jmespath-1.0.1-py3-none-any.whl (20 kB)\n",
            "Requirement already satisfied: six>=1.6.0 in /usr/local/lib/python3.7/dist-packages (from parsel>=1.5.0->scrapy->pysinonimos) (1.15.0)\n",
            "Requirement already satisfied: attrs>=19.1.0 in /usr/local/lib/python3.7/dist-packages (from service-identity>=18.1.0->scrapy->pysinonimos) (22.1.0)\n",
            "Requirement already satisfied: pyasn1-modules in /usr/local/lib/python3.7/dist-packages (from service-identity>=18.1.0->scrapy->pysinonimos) (0.2.8)\n",
            "Requirement already satisfied: pyasn1 in /usr/local/lib/python3.7/dist-packages (from service-identity>=18.1.0->scrapy->pysinonimos) (0.4.8)\n",
            "Collecting Automat>=0.8.0\n",
            "  Downloading Automat-20.2.0-py2.py3-none-any.whl (31 kB)\n",
            "Requirement already satisfied: typing-extensions>=3.6.5 in /usr/local/lib/python3.7/dist-packages (from Twisted>=18.9.0->scrapy->pysinonimos) (4.1.1)\n",
            "Collecting incremental>=21.3.0\n",
            "  Downloading incremental-22.10.0-py2.py3-none-any.whl (16 kB)\n",
            "Collecting constantly>=15.1\n",
            "  Downloading constantly-15.1.0-py2.py3-none-any.whl (7.9 kB)\n",
            "Collecting hyperlink>=17.1.1\n",
            "  Downloading hyperlink-21.0.0-py2.py3-none-any.whl (74 kB)\n",
            "\u001b[K     |████████████████████████████████| 74 kB 4.7 MB/s \n",
            "\u001b[?25hRequirement already satisfied: pyparsing!=3.0.5,>=2.0.2 in /usr/local/lib/python3.7/dist-packages (from packaging->scrapy->pysinonimos) (3.0.9)\n",
            "Collecting requests-file>=1.4\n",
            "  Downloading requests_file-1.5.1-py2.py3-none-any.whl (3.7 kB)\n",
            "Requirement already satisfied: filelock>=3.0.8 in /usr/local/lib/python3.7/dist-packages (from tldextract->scrapy->pysinonimos) (3.8.0)\n",
            "Building wheels for collected packages: pysinonimos, PyDispatcher\n",
            "  Building wheel for pysinonimos (setup.py) ... \u001b[?25l\u001b[?25hdone\n",
            "  Created wheel for pysinonimos: filename=pysinonimos-0.1.1-py3-none-any.whl size=2451 sha256=899cb10d4c9613d3efa3e40d372fc383da8610c45c61c9bcfc6269e3f3ee69be\n",
            "  Stored in directory: /root/.cache/pip/wheels/cf/3b/df/dc55668d011a2c8fc001234634f3e35df76b4cc6de5287ca4f\n",
            "  Building wheel for PyDispatcher (setup.py) ... \u001b[?25l\u001b[?25hdone\n",
            "  Created wheel for PyDispatcher: filename=PyDispatcher-2.0.6-py3-none-any.whl size=11958 sha256=320ea4361b9de0de3490892a7020f5b80150200f4af327ec2e9655c29547c981\n",
            "  Stored in directory: /root/.cache/pip/wheels/c9/d6/6a/de198d890277cde60ca3dbebe7ae592d3b381c7d9bb2455f4d\n",
            "Successfully built pysinonimos PyDispatcher\n",
            "Installing collected packages: w3lib, cssselect, zope.interface, requests-file, parsel, jmespath, itemadapter, incremental, hyperlink, cryptography, constantly, Automat, Twisted, tldextract, service-identity, queuelib, pyOpenSSL, PyDispatcher, protego, itemloaders, scrapy, pysinonimos\n",
            "Successfully installed Automat-20.2.0 PyDispatcher-2.0.6 Twisted-22.8.0 constantly-15.1.0 cryptography-38.0.1 cssselect-1.1.0 hyperlink-21.0.0 incremental-22.10.0 itemadapter-0.7.0 itemloaders-1.0.6 jmespath-1.0.1 parsel-1.6.0 protego-0.2.1 pyOpenSSL-22.1.0 pysinonimos-0.1.1 queuelib-1.6.2 requests-file-1.5.1 scrapy-2.7.0 service-identity-21.1.0 tldextract-3.4.0 w3lib-2.0.1 zope.interface-5.5.0\n"
          ]
        }
      ],
      "source": [
        "pip install pysinonimos"
      ]
    },
    {
      "cell_type": "code",
      "source": [
        "from pysinonimos.sinonimos import Search\n",
        "\n",
        "disciplinas = Search(\"onibus\")\n",
        "sinonimos_de_disciplinas = disciplinas.synonyms()\n",
        "print(sinonimos_de_disciplinas)"
      ],
      "metadata": {
        "colab": {
          "base_uri": "https://localhost:8080/"
        },
        "id": "zmJENWk9KO-k",
        "outputId": "1894c2a4-5665-4e0d-8cc9-ca5b347424cf"
      },
      "execution_count": 34,
      "outputs": [
        {
          "output_type": "stream",
          "name": "stdout",
          "text": [
            "['auto-ônibus', 'coletivo', 'autocarro', 'jardineira', 'marinete', 'sopa']\n"
          ]
        }
      ]
    },
    {
      "cell_type": "code",
      "source": [
        "from random import choice\n",
        "\n",
        "list_inic = ('minhas', 'quero minhas', 'quais as minhas', 'qual minha', 'diga a ','informe a','quero saber as', 'me fale as','qual é', 'diz a','','','')\n",
        "list_fim = ('materias', 'materia', 'sala', 'disciplina','professor','local','turma','turmas','professores','disciplinas','salas','aula','aulas','grade','horario','classe','classes')\n"
      ],
      "metadata": {
        "id": "Er2nSsFlL598"
      },
      "execution_count": 43,
      "outputs": []
    },
    {
      "cell_type": "code",
      "source": [
        "my_dict = {\"pattern\":[]};\n",
        "for i in range(100):\n",
        "  a = choice(list_inic)+' '+choice(list_fim)\n",
        "  my_dict['pattern'].append(a)\n",
        "my_dict"
      ],
      "metadata": {
        "colab": {
          "base_uri": "https://localhost:8080/"
        },
        "id": "7KD9L5O_OwuD",
        "outputId": "332a7426-280b-43dc-d5cb-0ec69cb73e48"
      },
      "execution_count": 44,
      "outputs": [
        {
          "output_type": "execute_result",
          "data": {
            "text/plain": [
              "{'pattern': ['me fale as classes',\n",
              "  'minhas materia',\n",
              "  'qual é grade',\n",
              "  'qual é disciplinas',\n",
              "  ' turmas',\n",
              "  'qual minha materia',\n",
              "  ' aula',\n",
              "  'minhas horario',\n",
              "  'me fale as materia',\n",
              "  ' classes',\n",
              "  ' aulas',\n",
              "  'diz a materias',\n",
              "  'me fale as disciplina',\n",
              "  'quero saber as classes',\n",
              "  ' aulas',\n",
              "  'diz a salas',\n",
              "  'quero minhas local',\n",
              "  'qual é disciplina',\n",
              "  'qual é horario',\n",
              "  'qual minha materias',\n",
              "  ' materia',\n",
              "  'qual é turma',\n",
              "  'quero minhas classe',\n",
              "  ' local',\n",
              "  'quero saber as professor',\n",
              "  ' local',\n",
              "  ' disciplina',\n",
              "  'diga a  sala',\n",
              "  'minhas turma',\n",
              "  'me fale as aulas',\n",
              "  ' disciplinas',\n",
              "  'quero saber as classes',\n",
              "  ' turmas',\n",
              "  'informe a turmas',\n",
              "  'me fale as horario',\n",
              "  'qual é materias',\n",
              "  'me fale as sala',\n",
              "  'me fale as materia',\n",
              "  'diga a  sala',\n",
              "  'me fale as materia',\n",
              "  'qual minha horario',\n",
              "  'qual minha classe',\n",
              "  ' turmas',\n",
              "  'quais as minhas turma',\n",
              "  'diga a  classe',\n",
              "  'quais as minhas aulas',\n",
              "  'me fale as turmas',\n",
              "  'me fale as local',\n",
              "  'me fale as sala',\n",
              "  ' salas',\n",
              "  'quero minhas disciplina',\n",
              "  'qual minha sala',\n",
              "  'diz a classes',\n",
              "  'qual é turma',\n",
              "  'quais as minhas turma',\n",
              "  'minhas horario',\n",
              "  ' disciplinas',\n",
              "  'minhas aula',\n",
              "  'me fale as turmas',\n",
              "  'quero saber as disciplinas',\n",
              "  ' horario',\n",
              "  'qual é disciplinas',\n",
              "  ' sala',\n",
              "  'quero minhas disciplinas',\n",
              "  'quero saber as sala',\n",
              "  'informe a turmas',\n",
              "  'diz a materia',\n",
              "  'diga a  turmas',\n",
              "  'informe a horario',\n",
              "  'qual minha turmas',\n",
              "  'diga a  grade',\n",
              "  'informe a classes',\n",
              "  'quero minhas sala',\n",
              "  'quero minhas aula',\n",
              "  'diga a  sala',\n",
              "  'qual minha aula',\n",
              "  'informe a classes',\n",
              "  'qual minha grade',\n",
              "  'me fale as disciplinas',\n",
              "  'quero saber as disciplina',\n",
              "  'informe a salas',\n",
              "  ' disciplina',\n",
              "  'minhas turma',\n",
              "  'qual minha disciplinas',\n",
              "  'quais as minhas grade',\n",
              "  'informe a sala',\n",
              "  'qual é disciplina',\n",
              "  'qual minha disciplinas',\n",
              "  'qual é classe',\n",
              "  ' aulas',\n",
              "  'diga a  sala',\n",
              "  'quero saber as grade',\n",
              "  'quero minhas disciplina',\n",
              "  'diz a turma',\n",
              "  'minhas horario',\n",
              "  'quero minhas horario',\n",
              "  'qual minha disciplinas',\n",
              "  'quero minhas materias',\n",
              "  'diz a materia',\n",
              "  ' aula']}"
            ]
          },
          "metadata": {},
          "execution_count": 44
        }
      ]
    },
    {
      "cell_type": "code",
      "source": [
        "\n",
        "list_inic_f = ('','','','quero saber','informe','qual','que hora','quando','quando sai','quero que sai','vai sair')\n",
        "list_fim_f = ('fretado','fretados','onibus','busao','lotação')\n"
      ],
      "metadata": {
        "id": "0iPI9nARQhv-"
      },
      "execution_count": 41,
      "outputs": []
    },
    {
      "cell_type": "code",
      "source": [
        "my_dict_f = {\"pattern\":[]};\n",
        "for i in range(30):\n",
        "  a = choice(list_inic_f)+' '+choice(list_fim_f)\n",
        "  my_dict_f['pattern'].append(a)\n",
        "my_dict_f"
      ],
      "metadata": {
        "colab": {
          "base_uri": "https://localhost:8080/"
        },
        "id": "CmlXowlzQjzb",
        "outputId": "5980dc7c-dda6-4a70-d577-f0944b575bc3"
      },
      "execution_count": 42,
      "outputs": [
        {
          "output_type": "execute_result",
          "data": {
            "text/plain": [
              "{'pattern': ['qual fretado',\n",
              "  'que hora busao',\n",
              "  'quando fretado',\n",
              "  'vai sair busao',\n",
              "  'quando onibus',\n",
              "  'quando lotação',\n",
              "  ' fretados',\n",
              "  ' fretado',\n",
              "  'que hora fretados',\n",
              "  'qual fretados',\n",
              "  'quero saber fretado',\n",
              "  'que hora fretado',\n",
              "  ' fretados',\n",
              "  'informe onibus',\n",
              "  'quando onibus',\n",
              "  ' fretados',\n",
              "  'informe onibus',\n",
              "  ' busao',\n",
              "  ' fretado',\n",
              "  'que hora busao',\n",
              "  'informe fretados',\n",
              "  'informe onibus',\n",
              "  'informe fretado',\n",
              "  'quero saber onibus',\n",
              "  'quando sai lotação',\n",
              "  'quando fretados',\n",
              "  'quero que sai fretados',\n",
              "  'que hora busao',\n",
              "  'qual busao',\n",
              "  ' busao']}"
            ]
          },
          "metadata": {},
          "execution_count": 42
        }
      ]
    }
  ]
}