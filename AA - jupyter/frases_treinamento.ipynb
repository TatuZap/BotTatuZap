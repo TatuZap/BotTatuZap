{
 "cells": [
  {
   "cell_type": "code",
   "execution_count": 3,
   "metadata": {
    "id": "Er2nSsFlL598"
   },
   "outputs": [],
   "source": [
    "from random import choice\n",
    "\n",
    "list_inic  = ('minhas', 'quero minhas', 'quais as minhas', 'qual minha', 'diga a ','informe a','quero saber as', 'me fale as','qual é', 'diz a','','','')\n",
    "list_fim   = ('materias', 'materia', 'sala', 'disciplina','professor','local','turma','turmas','professores','disciplinas','salas','aula','aulas','grade','horario','classe','classes')\n",
    "list_tempo = ('','','','agora','que devo ir','na segunda','na terca','na quarta','na quinta','na sexta','de manha','de tarde','de noite')"
   ]
  },
  {
   "cell_type": "code",
   "execution_count": 44,
   "metadata": {
    "colab": {
     "base_uri": "https://localhost:8080/"
    },
    "id": "7KD9L5O_OwuD",
    "outputId": "332a7426-280b-43dc-d5cb-0ec69cb73e48"
   },
   "outputs": [
    {
     "data": {
      "text/plain": [
       "{'pattern': ['me fale as classes',\n",
       "  'minhas materia',\n",
       "  'qual é grade',\n",
       "  'qual é disciplinas',\n",
       "  ' turmas',\n",
       "  'qual minha materia',\n",
       "  ' aula',\n",
       "  'minhas horario',\n",
       "  'me fale as materia',\n",
       "  ' classes',\n",
       "  ' aulas',\n",
       "  'diz a materias',\n",
       "  'me fale as disciplina',\n",
       "  'quero saber as classes',\n",
       "  ' aulas',\n",
       "  'diz a salas',\n",
       "  'quero minhas local',\n",
       "  'qual é disciplina',\n",
       "  'qual é horario',\n",
       "  'qual minha materias',\n",
       "  ' materia',\n",
       "  'qual é turma',\n",
       "  'quero minhas classe',\n",
       "  ' local',\n",
       "  'quero saber as professor',\n",
       "  ' local',\n",
       "  ' disciplina',\n",
       "  'diga a  sala',\n",
       "  'minhas turma',\n",
       "  'me fale as aulas',\n",
       "  ' disciplinas',\n",
       "  'quero saber as classes',\n",
       "  ' turmas',\n",
       "  'informe a turmas',\n",
       "  'me fale as horario',\n",
       "  'qual é materias',\n",
       "  'me fale as sala',\n",
       "  'me fale as materia',\n",
       "  'diga a  sala',\n",
       "  'me fale as materia',\n",
       "  'qual minha horario',\n",
       "  'qual minha classe',\n",
       "  ' turmas',\n",
       "  'quais as minhas turma',\n",
       "  'diga a  classe',\n",
       "  'quais as minhas aulas',\n",
       "  'me fale as turmas',\n",
       "  'me fale as local',\n",
       "  'me fale as sala',\n",
       "  ' salas',\n",
       "  'quero minhas disciplina',\n",
       "  'qual minha sala',\n",
       "  'diz a classes',\n",
       "  'qual é turma',\n",
       "  'quais as minhas turma',\n",
       "  'minhas horario',\n",
       "  ' disciplinas',\n",
       "  'minhas aula',\n",
       "  'me fale as turmas',\n",
       "  'quero saber as disciplinas',\n",
       "  ' horario',\n",
       "  'qual é disciplinas',\n",
       "  ' sala',\n",
       "  'quero minhas disciplinas',\n",
       "  'quero saber as sala',\n",
       "  'informe a turmas',\n",
       "  'diz a materia',\n",
       "  'diga a  turmas',\n",
       "  'informe a horario',\n",
       "  'qual minha turmas',\n",
       "  'diga a  grade',\n",
       "  'informe a classes',\n",
       "  'quero minhas sala',\n",
       "  'quero minhas aula',\n",
       "  'diga a  sala',\n",
       "  'qual minha aula',\n",
       "  'informe a classes',\n",
       "  'qual minha grade',\n",
       "  'me fale as disciplinas',\n",
       "  'quero saber as disciplina',\n",
       "  'informe a salas',\n",
       "  ' disciplina',\n",
       "  'minhas turma',\n",
       "  'qual minha disciplinas',\n",
       "  'quais as minhas grade',\n",
       "  'informe a sala',\n",
       "  'qual é disciplina',\n",
       "  'qual minha disciplinas',\n",
       "  'qual é classe',\n",
       "  ' aulas',\n",
       "  'diga a  sala',\n",
       "  'quero saber as grade',\n",
       "  'quero minhas disciplina',\n",
       "  'diz a turma',\n",
       "  'minhas horario',\n",
       "  'quero minhas horario',\n",
       "  'qual minha disciplinas',\n",
       "  'quero minhas materias',\n",
       "  'diz a materia',\n",
       "  ' aula']}"
      ]
     },
     "execution_count": 44,
     "metadata": {},
     "output_type": "execute_result"
    }
   ],
   "source": [
    "my_dict = {};\n",
    "dict2 = {\"pattern\":[]};\n",
    "for i in range(200):\n",
    "  a = choice(list_inic)+' '+choice(list_fim)+' '+choice(list_tempo)\n",
    "  my_dict[a]=('my_classes')\n",
    "  dict2['pattern'].append(a)\n",
    "my_dict"
   ]
  },
  {
   "cell_type": "code",
   "execution_count": 41,
   "metadata": {
    "id": "0iPI9nARQhv-"
   },
   "outputs": [],
   "source": [
    "\n",
    "list_inic_f = ('','','','quero saber','informe','qual','que hora','quando','quando sai','quero que sai','vai sair')\n",
    "list_fim_f = ('fretado','fretados','onibus','busao','lotação')\n"
   ]
  },
  {
   "cell_type": "code",
   "execution_count": 42,
   "metadata": {
    "colab": {
     "base_uri": "https://localhost:8080/"
    },
    "id": "CmlXowlzQjzb",
    "outputId": "5980dc7c-dda6-4a70-d577-f0944b575bc3"
   },
   "outputs": [
    {
     "data": {
      "text/plain": [
       "{'pattern': ['qual fretado',\n",
       "  'que hora busao',\n",
       "  'quando fretado',\n",
       "  'vai sair busao',\n",
       "  'quando onibus',\n",
       "  'quando lotação',\n",
       "  ' fretados',\n",
       "  ' fretado',\n",
       "  'que hora fretados',\n",
       "  'qual fretados',\n",
       "  'quero saber fretado',\n",
       "  'que hora fretado',\n",
       "  ' fretados',\n",
       "  'informe onibus',\n",
       "  'quando onibus',\n",
       "  ' fretados',\n",
       "  'informe onibus',\n",
       "  ' busao',\n",
       "  ' fretado',\n",
       "  'que hora busao',\n",
       "  'informe fretados',\n",
       "  'informe onibus',\n",
       "  'informe fretado',\n",
       "  'quero saber onibus',\n",
       "  'quando sai lotação',\n",
       "  'quando fretados',\n",
       "  'quero que sai fretados',\n",
       "  'que hora busao',\n",
       "  'qual busao',\n",
       "  ' busao']}"
      ]
     },
     "execution_count": 42,
     "metadata": {},
     "output_type": "execute_result"
    }
   ],
   "source": [
    "for i in range(50):\n",
    "  a = choice(list_inic_f)+' '+choice(list_fim_f)\n",
    "  my_dict[a] = 'bus_info'\n",
    "  dict2['pattern'].append(a)\n",
    "my_dict"
   ]
  },
  {
   "cell_type": "code",
   "execution_count": null,
   "metadata": {},
   "outputs": [],
   "source": [
    "keys, values = zip(*my_dict.items())\n",
    " \n",
    "# printing keys and values separately\n",
    "print (\"keys : \", str(keys))\n",
    "print (\"values : \", str(values))"
   ]
  },
  {
   "cell_type": "markdown",
   "metadata": {},
   "source": [
    "# Frases para os fretados"
   ]
  },
  {
   "cell_type": "code",
   "execution_count": 8,
   "metadata": {},
   "outputs": [],
   "source": [
    "# sinonimo de QUERO\n",
    "list_bus1 = ('quero', 'desejo', 'pretendo', 'necessito', 'preciso', 'procuro')\n",
    "\n",
    "# sinonimos de SABER\n",
    "list_bus2 = ('saber', 'entender', 'me informar', 'conhecer')\n",
    "\n",
    "# variacoes para QUE HORAS\n",
    "list_bus3 = ('que horas', 'que momento', 'quando')\n",
    "\n",
    "# sinonimos de PARTIR\n",
    "list_bus4 = ('sai', 'parte')\n",
    "\n",
    "# sinonimos de onibus\n",
    "list_bus5 = ('o onibus', 'o busao', 'o fretado', 'o transporte', 'a lotação')"
   ]
  },
  {
   "cell_type": "code",
   "execution_count": 12,
   "metadata": {},
   "outputs": [
    {
     "name": "stdout",
     "output_type": "stream",
     "text": [
      "quantidade de frases:  720\n"
     ]
    },
    {
     "data": {
      "text/plain": [
       "['procuro me informar que horas parte o busao',\n",
       " 'pretendo me informar que horas parte a lotação',\n",
       " 'desejo saber que momento parte o busao',\n",
       " 'quero me informar que horas sai a lotação',\n",
       " 'quero entender quando parte a lotação',\n",
       " 'pretendo entender que momento parte o transporte',\n",
       " 'necessito entender que momento sai o onibus',\n",
       " 'desejo me informar que horas sai o transporte',\n",
       " 'desejo entender que horas sai o onibus',\n",
       " 'preciso me informar que momento parte o fretado']"
      ]
     },
     "execution_count": 12,
     "metadata": {},
     "output_type": "execute_result"
    }
   ],
   "source": [
    "from random import choice\n",
    "\n",
    "frases = []\n",
    "\n",
    "for i in range(10000):\n",
    "    a = choice(list_bus1)+' '+choice(list_bus2)+' '+choice(list_bus3)+' '+choice(list_bus4)+' '+choice(list_bus5)\n",
    "    if a not in frases:\n",
    "        frases.append(a)\n",
    "\n",
    "print('quantidade de frases: ', len(frases))\n",
    "\n",
    "# sorted(frases)[0:5]\n",
    "frases[0:10]"
   ]
  },
  {
   "cell_type": "markdown",
   "metadata": {},
   "source": [
    "# Frases para pedir as turmas"
   ]
  },
  {
   "cell_type": "code",
   "execution_count": 14,
   "metadata": {},
   "outputs": [],
   "source": [
    "# sinonimo de QUERO\n",
    "list1 = ('quero', 'desejo', 'pretendo', 'cogito', 'exigo', 'necessito', 'preciso', 'procuro', 'interesso-me')\n",
    "\n",
    "# sinonimos de SABER\n",
    "list2 = ('saber', 'entender', 'que me informe', 'conhecer', 'compreender')\n",
    "\n",
    "# variacoes para QUE HORAS\n",
    "list3 = ('minhas salas', 'minhas turmas', 'minha grade', 'minhas salas de aula', 'minhas classes', 'minha próxima aula', 'a próxima aula',\n",
    "        'a turma seguinte', 'a seguinte sala')"
   ]
  },
  {
   "cell_type": "code",
   "execution_count": 15,
   "metadata": {},
   "outputs": [
    {
     "name": "stdout",
     "output_type": "stream",
     "text": [
      "390\n"
     ]
    },
    {
     "data": {
      "text/plain": [
       "['exigo compreender a próxima aula',\n",
       " 'exigo entender minhas classes',\n",
       " 'desejo entender a seguinte sala',\n",
       " 'pretendo entender minha grade',\n",
       " 'exigo conhecer minhas turmas',\n",
       " 'cogito conhecer a próxima aula',\n",
       " 'pretendo entender a próxima aula',\n",
       " 'preciso compreender minhas salas',\n",
       " 'interesso-me entender minhas salas',\n",
       " 'quero entender a próxima aula',\n",
       " 'necessito conhecer minha grade',\n",
       " 'pretendo compreender minhas salas de aula',\n",
       " 'exigo conhecer a turma seguinte',\n",
       " 'preciso conhecer minhas turmas',\n",
       " 'preciso saber minhas salas de aula',\n",
       " 'preciso conhecer minhas salas de aula',\n",
       " 'interesso-me entender minha grade',\n",
       " 'necessito entender minhas turmas',\n",
       " 'cogito entender minhas turmas',\n",
       " 'exigo conhecer a seguinte sala']"
      ]
     },
     "execution_count": 15,
     "metadata": {},
     "output_type": "execute_result"
    }
   ],
   "source": [
    "frases = []\n",
    "\n",
    "for i in range(1250):\n",
    "    a = choice(list1)+' '+choice(list2)+' '+choice(list3)\n",
    "    if a not in frases:\n",
    "        frases.append(a)\n",
    "print(len(frases))\n",
    "\n",
    "# frases = sorted(frases)\n",
    "frases[0:20]"
   ]
  }
 ],
 "metadata": {
  "colab": {
   "provenance": []
  },
  "kernelspec": {
   "display_name": "Python 3 (ipykernel)",
   "language": "python",
   "name": "python3"
  },
  "language_info": {
   "codemirror_mode": {
    "name": "ipython",
    "version": 3
   },
   "file_extension": ".py",
   "mimetype": "text/x-python",
   "name": "python",
   "nbconvert_exporter": "python",
   "pygments_lexer": "ipython3",
   "version": "3.9.12"
  },
  "vscode": {
   "interpreter": {
    "hash": "e7370f93d1d0cde622a1f8e1c04877d8463912d04d973331ad4851f04de6915a"
   }
  }
 },
 "nbformat": 4,
 "nbformat_minor": 1
}
